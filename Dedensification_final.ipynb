{
  "nbformat": 4,
  "nbformat_minor": 0,
  "metadata": {
    "colab": {
      "name": "Dedensification_final.ipynb",
      "provenance": [],
      "collapsed_sections": [],
      "mount_file_id": "1cX6x0Al48huEm9ZjN9aOkGMGaPheU-So",
      "authorship_tag": "ABX9TyNcUXLGOxWFh7H1lkgjb8Nl",
      "include_colab_link": true
    },
    "kernelspec": {
      "name": "python3",
      "display_name": "Python 3"
    }
  },
  "cells": [
    {
      "cell_type": "markdown",
      "metadata": {
        "id": "view-in-github",
        "colab_type": "text"
      },
      "source": [
        "<a href=\"https://colab.research.google.com/github/Kacper-Sawicz/Dedensification_of_graphs/blob/main/Dedensification_final.ipynb\" target=\"_parent\"><img src=\"https://colab.research.google.com/assets/colab-badge.svg\" alt=\"Open In Colab\"/></a>"
      ]
    },
    {
      "cell_type": "markdown",
      "metadata": {
        "id": "N7t-BYoi4pb2"
      },
      "source": [
        "# Dedensification of the graph algorithm based on Antonio Macconi paper from 2016"
      ]
    },
    {
      "cell_type": "code",
      "metadata": {
        "id": "5FQeDp6AfaLY"
      },
      "source": [
        "import numpy as np\n",
        "import networkx as nx\n",
        "import matplotlib.pyplot as plt\n",
        "from networkx.algorithms import bipartite\n",
        "import math\n",
        "import pprint\n",
        "import copy\n",
        "from itertools import chain\n",
        "import pandas as pd\n",
        "import csv\n",
        "from collections import Counter\n",
        "import tabulate"
      ],
      "execution_count": null,
      "outputs": []
    },
    {
      "cell_type": "code",
      "metadata": {
        "id": "kPLn3xXlhibk"
      },
      "source": [
        "#creating a Figure 1 and Figure 2 example as in the paper by Macconi\n",
        "N_f1 = [1, 2, 3, 4, 5, 6, 'A', 'B', 'C']\n",
        "E_f1 = [[1,'A'], [1,'B'], [1,'C'], [2,'A'], [2,'B'], [2,'C'], [3,'A'], [3,'B'], [3,'C'], [4,'A'], [4,'B'], [4,'C'],\n",
        "        [5,'A'], [5,'B'], [5,'C'], [6,'A'], [6,'B'], [6,'C']]\n",
        "\n",
        "N_f2 = [1, 2, 3, 4, 5, 6, 'A', 'B', 'C']\n",
        "E_f2 = [[1,'B'], [1,'C'], [2,'A'], [2,'B'], [2,'C'], [3,'A'], [3,'B'], [3,6], [4,'A'], [4,'B'], [4,'C'], [5,'A'], [5,'B'], [6,5], ['A',6]]"
      ],
      "execution_count": null,
      "outputs": []
    },
    {
      "cell_type": "code",
      "metadata": {
        "id": "AZnwX_WTR0wN"
      },
      "source": [
        "def high_or_low(N, E, T): #checking degree of a node, the flip is based on parameter T\n",
        "  destination = []\n",
        "  N_h = []\n",
        "  N_l = []\n",
        "  for i in E:\n",
        "    destination.append(i[1])\n",
        "  for i in N:\n",
        "    if destination.count(i) >= T:\n",
        "      N_h.append(i)\n",
        "    else:\n",
        "      N_l.append(i)\n",
        "  return N_h, N_l"
      ],
      "execution_count": null,
      "outputs": []
    },
    {
      "cell_type": "code",
      "metadata": {
        "id": "RaEuZeITUWF8"
      },
      "source": [
        "Nh_f1, Nl_f1 = high_or_low(N_f1, E_f1, 3)\n",
        "Nh_f2, Nl_f2 = high_or_low(N_f2, E_f2, 3)"
      ],
      "execution_count": null,
      "outputs": []
    },
    {
      "cell_type": "code",
      "metadata": {
        "id": "O_P-0g9TwsT0"
      },
      "source": [
        "def dedensification(N_h, N_l, E):\n",
        "\n",
        "  W = [] #initializing auxiliary map for constraint 1\n",
        "  N_c = []\n",
        "  E_p = copy.deepcopy(E)\n",
        "\n",
        "  for i in (N_h + N_l):\n",
        "    H = [p[1] for p in E if p[0]==i and p[1] in N_h] #select the outgoing high-degree nodes of i\n",
        "    if H:\n",
        "      check = 0\n",
        "      for t in W:\n",
        "        if t[0] == H:\n",
        "          t[1].append(i)\n",
        "          check += 1\n",
        "      if check == 0:\n",
        "        W.append([H, [i]])\n",
        "\n",
        "  for q in W:\n",
        "    if len(q[0])*len(q[1]) > len(q[0]) + len(q[1]): #optimisation constraint\n",
        "      n_c = str(q[0]) #introducing a new node\n",
        "      for p in q[1]:\n",
        "        for r in q[0]:\n",
        "          E_p.remove([p,r])\n",
        "        E_p.append([p, n_c])\n",
        "      for s in q[0]:\n",
        "        E_p.append([n_c, s])\n",
        "      N_c.append(n_c)\n",
        "\n",
        "  return [N_h, N_l, N_c, E_p]"
      ],
      "execution_count": null,
      "outputs": []
    },
    {
      "cell_type": "markdown",
      "metadata": {
        "id": "E1-IdFsVLq9b"
      },
      "source": [
        "Figure 1"
      ]
    },
    {
      "cell_type": "code",
      "metadata": {
        "id": "X2Wm3m_O6V5W"
      },
      "source": [
        "[Nh_f1, Nl_f1, Nc_f1, E_prime_f1] = dedensification(Nh_f1, Nl_f1, E_f1) #the output for figure 1"
      ],
      "execution_count": null,
      "outputs": []
    },
    {
      "cell_type": "code",
      "metadata": {
        "id": "KNGoSY6jAjP0"
      },
      "source": [
        "G_f1 = nx.DiGraph()\n",
        "G_f1.add_nodes_from(N_f1)\n",
        "G_f1.add_nodes_from(Nc_f1)\n",
        "G_f1.add_edges_from(E_prime_f1)"
      ],
      "execution_count": null,
      "outputs": []
    },
    {
      "cell_type": "code",
      "metadata": {
        "id": "pckeB5UXMSWP",
        "colab": {
          "base_uri": "https://localhost:8080/",
          "height": 248
        },
        "outputId": "6bd806fd-e361-4484-8894-ae1b0fbbcbc7"
      },
      "source": [
        "pos = nx.shell_layout(G_f1)\n",
        "\n",
        "# nodes\n",
        "nx.draw_networkx_nodes(G_f1, pos,\n",
        "                       nodelist=Nh_f1,\n",
        "                       node_color='r',\n",
        "                       node_size=500,\n",
        "                       alpha=0.8)\n",
        "nx.draw_networkx_nodes(G_f1, pos,\n",
        "                       nodelist=Nl_f1,\n",
        "                       node_color='b',\n",
        "                       node_size=500,\n",
        "                       alpha=0.8)\n",
        "nx.draw_networkx_nodes(G_f1, pos,\n",
        "                       nodelist=Nc_f1,\n",
        "                       node_color='y',\n",
        "                       node_size=500,\n",
        "                       alpha=0.8)\n",
        "\n",
        "# edges\n",
        "nx.draw_networkx_edges(G_f1, pos, width=1.0, alpha=0.5)\n",
        "\n",
        "# labels\n",
        "nx.draw_networkx_labels(G_f1, pos, font_size=20, font_family='sans-serif')\n",
        "\n",
        "plt.axis('off')\n",
        "plt.show()\n",
        "#Figure 1(a) from the paper"
      ],
      "execution_count": null,
      "outputs": [
        {
          "output_type": "display_data",
          "data": {
            "image/png": "[encoded data removed]",
            "text/plain": [
              "<Figure size 432x288 with 1 Axes>"
            ]
          },
          "metadata": {
            "tags": []
          }
        }
      ]
    },
    {
      "cell_type": "markdown",
      "metadata": {
        "id": "Dr0xRU3JLvmD"
      },
      "source": [
        "Figure 2"
      ]
    },
    {
      "cell_type": "code",
      "metadata": {
        "id": "8J-PRIqnK__g"
      },
      "source": [
        "[Nh_f2, Nl_f2, Nc_f2, E_prime_f2] = dedensification(Nh_f2, Nl_f2, E_f2) #the output for figure 2"
      ],
      "execution_count": null,
      "outputs": []
    },
    {
      "cell_type": "code",
      "metadata": {
        "id": "Q_Mm7PcyLAGm"
      },
      "source": [
        "G_f2 = nx.DiGraph()\n",
        "G_f2.add_nodes_from(N_f2)\n",
        "G_f2.add_nodes_from(Nc_f2)\n",
        "G_f2.add_edges_from(E_prime_f2)"
      ],
      "execution_count": null,
      "outputs": []
    },
    {
      "cell_type": "code",
      "metadata": {
        "id": "QWJ44VdlLANp",
        "colab": {
          "base_uri": "https://localhost:8080/",
          "height": 248
        },
        "outputId": "86f404fc-c437-451f-a5eb-aaab5eea47db"
      },
      "source": [
        "pos = nx.shell_layout(G_f2)\n",
        "\n",
        "# nodes\n",
        "nx.draw_networkx_nodes(G_f2, pos,\n",
        "                       nodelist=Nh_f2,\n",
        "                       node_color='r',\n",
        "                       node_size=500,\n",
        "                       alpha=0.8)\n",
        "nx.draw_networkx_nodes(G_f2, pos,\n",
        "                       nodelist=Nl_f2,\n",
        "                       node_color='b',\n",
        "                       node_size=500,\n",
        "                       alpha=0.8)\n",
        "nx.draw_networkx_nodes(G_f2, pos,\n",
        "                       nodelist=Nc_f2,\n",
        "                       node_color='y',\n",
        "                       node_size=500,\n",
        "                       alpha=0.8)\n",
        "\n",
        "# edges\n",
        "nx.draw_networkx_edges(G_f2, pos, width=1.0, alpha=0.5)\n",
        "\n",
        "# labels\n",
        "nx.draw_networkx_labels(G_f2, pos, font_size=20, font_family='sans-serif')\n",
        "\n",
        "plt.axis('off')\n",
        "plt.show()\n",
        "#Figure 2(c) from the paper"
      ],
      "execution_count": null,
      "outputs": [
        {
          "output_type": "display_data",
          "data": {
            "image/png": "[encoded data removed]",
            "text/plain": [
              "<Figure size 432x288 with 1 Axes>"
            ]
          },
          "metadata": {
            "tags": []
          }
        }
      ]
    },
    {
      "cell_type": "markdown",
      "metadata": {
        "id": "SquJ9yIY4xht"
      },
      "source": [
        "# Implementation of the Tomas Feder 1985 algorithm"
      ]
    },
    {
      "cell_type": "code",
      "metadata": {
        "id": "BcSX21Uy5w_Z"
      },
      "source": [
        "#creating an easy example from previous task\n",
        "N_f3 = [1, 2, 3, 4, 5, 6, 7, 8, 9, 10, 11, 12, 13, 14, 15, 16]\n",
        "E_f3 = [[1,9],\n",
        "        [2,10], [2,11], [2,12], [2,13], [2,14], [2,15], [2,16],\n",
        "        [3,10], [3,11], [3,12], [3,13], [3,14], [3,15], [3,16],\n",
        "        [4,10], [4,11], [4,12], [4,13], [4,14], [4,15], [4,16],\n",
        "        [5,10], [5,11], [5,12], [5,13], [5,14], [5,15], [5,16],\n",
        "        [6,10], [6,11], [6,12], [6,13], [6,14], [6,15], [6,16],\n",
        "        [7,10], [7,11], [7,12], [7,13], [7,14], [7,15], [7,16],\n",
        "        [8,10], [8,11], [8,12], [8,13], [8,14], [8,15], [8,16]]"
      ],
      "execution_count": null,
      "outputs": []
    },
    {
      "cell_type": "code",
      "metadata": {
        "id": "qtWgbuGS8B34"
      },
      "source": [
        "#here it is undirected graph, which is different then before since we were working on DAGs\n",
        "G_f3 = nx.Graph()\n",
        "G_f3.add_nodes_from(N_f3[:8], bipartite=0)\n",
        "G_f3.add_nodes_from(N_f3[8:], bipartite=1)\n",
        "G_f3.add_edges_from(E_f3)"
      ],
      "execution_count": null,
      "outputs": []
    },
    {
      "cell_type": "code",
      "metadata": {
        "id": "1cveMhWH9_kW",
        "colab": {
          "base_uri": "https://localhost:8080/",
          "height": 35
        },
        "outputId": "63501bd4-44bc-43b1-ed7a-3105d801b4c2"
      },
      "source": [
        "nx.is_bipartite(G_f3)"
      ],
      "execution_count": null,
      "outputs": [
        {
          "output_type": "execute_result",
          "data": {
            "text/plain": [
              "True"
            ]
          },
          "metadata": {
            "tags": []
          },
          "execution_count": 16
        }
      ]
    },
    {
      "cell_type": "code",
      "metadata": {
        "id": "hHLzL02i8-sB",
        "colab": {
          "base_uri": "https://localhost:8080/",
          "height": 248
        },
        "outputId": "1c2c801e-7e6b-4674-e1c7-cde9619d41e8"
      },
      "source": [
        "pos = nx.bipartite_layout(G_f3, N_f3[:8])\n",
        "\n",
        "# nodes\n",
        "nx.draw_networkx_nodes(G_f3, pos,\n",
        "                       nodelist=N_f3[:8],\n",
        "                       node_color='b',\n",
        "                       node_size=500,\n",
        "                       alpha=0.8)\n",
        "nx.draw_networkx_nodes(G_f3, pos,\n",
        "                       nodelist=N_f3[8:],\n",
        "                       node_color='r',\n",
        "                       node_size=500,\n",
        "                       alpha=0.8)\n",
        "\n",
        "# edges\n",
        "nx.draw_networkx_edges(G_f3, pos, width=1.0, alpha=0.5)\n",
        "\n",
        "# labels\n",
        "nx.draw_networkx_labels(G_f3, pos, font_size=20, font_family='sans-serif')\n",
        "\n",
        "plt.axis('off')\n",
        "plt.show()"
      ],
      "execution_count": null,
      "outputs": [
        {
          "output_type": "display_data",
          "data": {
            "image/png": "[encoded data removed]",
            "text/plain": [
              "<Figure size 432x288 with 1 Axes>"
            ]
          },
          "metadata": {
            "tags": []
          }
        }
      ]
    },
    {
      "cell_type": "code",
      "metadata": {
        "id": "-vu79ATqelqE",
        "colab": {
          "base_uri": "https://localhost:8080/",
          "height": 319
        },
        "outputId": "45986b3a-3d3d-4ff3-de47-b805f4ef8499"
      },
      "source": [
        "G_bin = nx.binomial_tree(4)\n",
        "nx.draw(G_bin)"
      ],
      "execution_count": null,
      "outputs": [
        {
          "output_type": "display_data",
          "data": {
            "image/png": "[encoded data removed]",
            "text/plain": [
              "<Figure size 432x288 with 1 Axes>"
            ]
          },
          "metadata": {
            "tags": []
          }
        }
      ]
    },
    {
      "cell_type": "markdown",
      "metadata": {
        "id": "Cj5z4FBuYVuE"
      },
      "source": [
        "Clique Stripping Algorithm and Partition"
      ]
    },
    {
      "cell_type": "markdown",
      "metadata": {
        "id": "I_zw-FCLNXCy"
      },
      "source": [
        "Input has to be U_n, V_n bipartite graph\n"
      ]
    },
    {
      "cell_type": "code",
      "metadata": {
        "id": "bXSzLe-lcrY9"
      },
      "source": [
        "\"\"\"All supplementary functions that are later used in Neighborhood trees function\"\"\"\n",
        "\n",
        "def Log2(x):\n",
        "    if x == 0: \n",
        "        return false; \n",
        "  \n",
        "    return (math.log10(x) / math.log10(2))\n",
        "\n",
        "def isPowerOfTwo(n): \n",
        "    return (math.ceil(Log2(n)) == math.floor(Log2(n)))\n",
        "\n",
        "def virtual_nodes(n):\n",
        "  counter = 0\n",
        "  while isPowerOfTwo(len(n)) == False:\n",
        "    n.append('virtual_'+str(counter))\n",
        "    counter += 1\n",
        "  return n\n",
        "\n",
        "def chunks(lst, n):\n",
        "    \"\"\"Yield successive n-sized chunks from lst.\"\"\"\n",
        "    for i in range(0, len(lst), n):\n",
        "        yield lst[i:i + n]\n",
        "\n",
        "def all_chunks(n, h):\n",
        "  \"\"\"Yield all chunks needed for the binary tree\"\"\"\n",
        "  l=list()\n",
        "  for i in range(int(h+1)):\n",
        "    l.append(list(chunks(n, int(len(n)/(2**i)))))\n",
        "  return l\n",
        "\n",
        "def intersection(lst1, lst2): \n",
        "    lst3 = [value for value in lst1 if value in lst2] \n",
        "    return lst3\n",
        "\n",
        "def Tree_degree(G, E, node_U, list_of_subsets):\n",
        "  mapping_l = []\n",
        "  E_n = [] #nodes that are connected with a given node\n",
        "  for i in E:\n",
        "    if i[0] == node_U:\n",
        "      E_n.append(i[1])\n",
        "  for i in list_of_subsets:\n",
        "    mapping_l.append(len(intersection(E_n, i)))\n",
        "  return mapping_l\n",
        "\n",
        "def Tree_nodes(tree_height):\n",
        "  return 2**(tree_height+1)-1 #formula for maximum nodes in a complete binary tree 2^(height+1)-1\n",
        "\n",
        "def All_tree_nodes_list(tree_nodes, tree_height):\n",
        "  lst = [*range(0, tree_nodes, 1)]\n",
        "  lst2 = []\n",
        "  counter = 0\n",
        "  for i in range(tree_height+1):\n",
        "    lst2.append(lst[counter:(counter+2**i)])\n",
        "    counter += 2**i\n",
        "  return lst2"
      ],
      "execution_count": null,
      "outputs": []
    },
    {
      "cell_type": "code",
      "metadata": {
        "id": "YVivKc3DYaD8"
      },
      "source": [
        "def Neighborhood_trees(U, V, E):\n",
        "\n",
        "  length_original_V = len(copy.deepcopy(V))\n",
        "  V_r = copy.deepcopy(V)\n",
        "  V_r = virtual_nodes(V_r) #complementing the set of nodes V so it is an exponent of 2\n",
        "  V_r = sorted(V_r[:length_original_V]) + V_r[length_original_V:] #add a subscribt to V so only first nodes that are not virtual are sorted\n",
        "  initial_V = copy.deepcopy(V)\n",
        "  tree_height = int(Log2(len(initial_V)))\n",
        "  Trees = {}\n",
        "  tree_nodes = Tree_nodes(tree_height)\n",
        "  initial_E = copy.deepcopy(E)\n",
        "\n",
        "  chunks_by_tree_level = all_chunks(initial_V, tree_height) #list of lists with level of the tree as first list\n",
        "  chunks_by_tree_index = [x for l in chunks_by_tree_level for x in l] #list with all the chunks of the V by tree index\n",
        "\n",
        "  \"\"\"\n",
        "  this for loop is creating all binary trees (one for each element in U) and\n",
        "  adding degrees for all the nodes for all of the trees\n",
        "  degree = to how many nodes from a given subset a node from U (for which the tree is created) is connected to\n",
        "  \"\"\"\n",
        "  for i in U:\n",
        "    Trees[i] = nx.generators.classic.balanced_tree(2, h=tree_height)\n",
        "    mapping = dict(zip([*range(0, tree_nodes, 1)], Tree_degree(Trees[i], initial_E, i, chunks_by_tree_index)))\n",
        "    mapping2 = dict(zip([*range(0, tree_nodes, 1)], chunks_by_tree_index))\n",
        "    nx.set_node_attributes(G = Trees[i], values = mapping, name='degree')\n",
        "    nx.set_node_attributes(G = Trees[i], values = mapping2, name='subset')\n",
        "    mapping.clear()\n",
        "\n",
        "  return Trees, V_r, tree_height"
      ],
      "execution_count": null,
      "outputs": []
    },
    {
      "cell_type": "code",
      "metadata": {
        "id": "8XN9zg_IRLLc",
        "colab": {
          "base_uri": "https://localhost:8080/",
          "height": 319
        },
        "outputId": "3fb3f5da-2497-46ec-f850-b14a9c289972"
      },
      "source": [
        "nx.draw(nx.generators.classic.balanced_tree(2, h=3))"
      ],
      "execution_count": null,
      "outputs": [
        {
          "output_type": "display_data",
          "data": {
            "image/png": "[encoded data removed]",
            "text/plain": [
              "<Figure size 432x288 with 1 Axes>"
            ]
          },
          "metadata": {
            "tags": []
          }
        }
      ]
    },
    {
      "cell_type": "code",
      "metadata": {
        "id": "NvdXQSM5rAR_"
      },
      "source": [
        "def finding_the_treenode_based_on_path(path):\n",
        "  tree_height = len(path)\n",
        "  list_of_lvl = All_tree_nodes_list(Tree_nodes(tree_height), tree_height)\n",
        "  last_lvl = list_of_lvl[-1]\n",
        "  for i in path:\n",
        "    if i == 0:\n",
        "      last_lvl = last_lvl[:len(last_lvl)//2]\n",
        "    else: # i==1\n",
        "      last_lvl = last_lvl[len(last_lvl)//2:]\n",
        "  return last_lvl[0]\n",
        "\n",
        "def U_connected_to_y_t(U, E, y_t):\n",
        "  U2 = []\n",
        "  for i in E:\n",
        "    if i[1] == y_t and i[0] in U:\n",
        "      U2.append(i[0])\n",
        "  return U2\n",
        "\n",
        "def final_graph(U, V, E):\n",
        "  new_E = []\n",
        "  for i in E:\n",
        "    if i[0] in U and i[1] in V:\n",
        "      new_E.append(i)\n",
        "  return [U, V, new_E]\n",
        "\n",
        "def substracting_degree(T, U, path):\n",
        "  nodes_passed_by_path = []\n",
        "  chunks_of_list = []\n",
        "\n",
        "  for i in range(len(path)):\n",
        "    chunks_of_list.append(path[:i+1])\n",
        "\n",
        "  for i in chunks_of_list:\n",
        "    nodes_passed_by_path.append(finding_the_treenode_based_on_path(i))\n",
        "\n",
        "  for i in U:\n",
        "    for p in nodes_passed_by_path:\n",
        "      if T[i].nodes[p]['degree'] > 0:\n",
        "        new_value = T[i].nodes[p]['degree'] - 1\n",
        "        nx.set_node_attributes(T[i], {p:new_value}, 'degree')\n",
        "  \n",
        "  return T\n",
        "\n",
        "def calculating_k(n,m,delta): #n is number of nodes in U and V (seperatly in both, since their sizes are the same),\n",
        "                              # m is number of edges, delta is parameter between 0 and 1\n",
        "  return math.floor((delta*Log2(n))/(Log2((2*(n**2))/m)))\n",
        "\n",
        "def deleting_node(T, node_number):\n",
        "  for i in T.keys():\n",
        "    T[i].remove_node(node_number)\n",
        "  return T\n",
        "\n",
        "def finding_the_V_based_on_path(path, T, key):\n",
        "  tree_height = len(path)\n",
        "  list_of_lvl = All_tree_nodes_list(Tree_nodes(tree_height), tree_height)\n",
        "  last_lvl = list_of_lvl[-1]\n",
        "  for i in path:\n",
        "    if i == 0:\n",
        "      last_lvl = last_lvl[:len(last_lvl)//2]\n",
        "    else: # i==1\n",
        "      last_lvl = last_lvl[len(last_lvl)//2:]\n",
        "  try:\n",
        "    return T[key].nodes[last_lvl[0]]['subset'][0]\n",
        "def k_sized_subsets_out_of_S(k, S):\n",
        "  try:\n",
        "    return int(math.factorial(S)/(math.factorial(k)*math.factorial(S-k)))\n",
        "  except ValueError:\n",
        "    return 0\n",
        "\n",
        "def last_existing(path, T, key):\n",
        "  while T[key].has_node(finding_the_treenode_based_on_path(omega)) == False:\n",
        "    if omega[-1] == 0:\n",
        "      if T[key].has_node(finding_the_treenode_based_on_path(omega[:-1] + [1])) == True:\n",
        "        omega = omega[:-1] + [1]\n",
        "      else:\n",
        "        omega = omega[:-1]\n",
        "    else: #omega[-1] == 1\n",
        "      if T[key].has_node(finding_the_treenode_based_on_path(omega[:-1] + [0])) == True:\n",
        "        omega = omega[:-1] + [0]\n",
        "      else:\n",
        "        omega = omega[:-1]\n",
        "  return omega\n",
        "\n"
      ],
      "execution_count": null,
      "outputs": []
    },
    {
      "cell_type": "code",
      "metadata": {
        "id": "g4PFsayIls6T"
      },
      "source": [
        "def Clique_stripping_algorithm(U, V, E, T, t_height, delta, k):\n",
        "  t = 1\n",
        "  U_t = U\n",
        "  V_t = V\n",
        "  y_t_all = []\n",
        "\n",
        "  while t < k:\n",
        "    omega = []\n",
        "\n",
        "    while len(omega) < t_height:\n",
        "      c_0 = 0\n",
        "      c_1 = 0\n",
        "      \n",
        "      \"\"\"the try and except are needed here, since sometimes only one leaf out of 2 is left in the process, and then we just have to pick it\"\"\"\n",
        "\n",
        "      for i in U_t:\n",
        "        try:\n",
        "          c_0 += T[i].nodes[finding_the_treenode_based_on_path(omega + [0])]['degree'] * k_sized_subsets_out_of_S((k-t), (T[i].nodes[finding_the_treenode_based_on_path(omega)]['degree']-1))\n",
        "        except KeyError:\n",
        "          pass\n",
        "        try:\n",
        "          c_1 += T[i].nodes[finding_the_treenode_based_on_path(omega + [1])]['degree'] * k_sized_subsets_out_of_S((k-t), (T[i].nodes[finding_the_treenode_based_on_path(omega)]['degree']-1))\n",
        "        except KeyError:\n",
        "          pass\n",
        "\n",
        "      if c_0 >= c_1:\n",
        "        if T[U_t[0]].has_node(finding_the_treenode_based_on_path(omega)) == False and T[U_t[0]].has_node(finding_the_treenode_based_on_path(omega[:-1] + [1])) == False:\n",
        "          omega = last_existing(omega, T, U_t[0])\n",
        "        elif T[U_t[0]].has_node(finding_the_treenode_based_on_path(omega + [0])) == True:\n",
        "          omega.append(0)\n",
        "        elif T[U_t[0]].has_node(finding_the_treenode_based_on_path(omega + [1])) == True:\n",
        "          omega.append(1)\n",
        "        elif T[U_t[0]].has_node(finding_the_treenode_based_on_path(omega + [0])) == False and T[U_t[0]].has_node(finding_the_treenode_based_on_path(omega + [1])) == False:\n",
        "          omega = omega[:-1] + [1]\n",
        "      else:\n",
        "        if T[U_t[0]].has_node(finding_the_treenode_based_on_path(omega)) == False and T[U_t[0]].has_node(finding_the_treenode_based_on_path(omega[:-1]+[0])) == False:\n",
        "          omega = last_existing(omega, T, U_t[0])\n",
        "        elif T[U_t[0]].has_node(finding_the_treenode_based_on_path(omega + [1])) == True:\n",
        "          omega.append(1)\n",
        "        elif T[U_t[0]].has_node(finding_the_treenode_based_on_path(omega + [0])) == True:\n",
        "          omega.append(0)\n",
        "        elif T[U_t[0]].has_node(finding_the_treenode_based_on_path(omega + [0])) == False and T[U_t[0]].has_node(finding_the_treenode_based_on_path(omega + [1])) == False:\n",
        "          omega = omega[:-1] + [0]\n",
        "\n",
        "    y_t_V = finding_the_V_based_on_path(omega, T, U_t[0]) #y_t from a set V perspective\n",
        "    y_t_all.append(y_t_V)\n",
        "\n",
        "    y_t_t = finding_the_treenode_based_on_path(omega) #y_t from a single tree perspective\n",
        "    V_t.remove(y_t_V)\n",
        "    U_t = U_connected_to_y_t(U_t, E, y_t_V)\n",
        "\n",
        "    T = substracting_degree(T, U_t, omega)\n",
        "\n",
        "    T = deleting_node(T, y_t_t)\n",
        "\n",
        "    t += 1\n",
        "\n",
        "  C = [U_t, y_t_all]\n",
        "\n",
        "  return C"
      ],
      "execution_count": null,
      "outputs": []
    },
    {
      "cell_type": "code",
      "metadata": {
        "id": "iew7iv_4IIjs"
      },
      "source": [
        "def Edge_removal(E, clq):\n",
        "  for u in clq[0]:\n",
        "    for v in clq[1]:\n",
        "      E.remove([u,v])\n",
        "  return E\n",
        "\n",
        "def cliques_formation(list_of_edges):\n",
        "  new_list = []\n",
        "  for i in list_of_edges:\n",
        "    if isinstance(i[0], int):\n",
        "      new_list.append([[i[0]], [i[1]]])\n",
        "    else:\n",
        "      new_list.append(i)\n",
        "  return new_list\n",
        "\n",
        "def convert_to_dict(list_of_cliques):\n",
        "  d = {}\n",
        "  for row in list_of_cliques:\n",
        "    for k in row[1]:\n",
        "      if tuple(row[0]) in d:\n",
        "        d[tuple(row[0])].append(k)\n",
        "      else:\n",
        "        d[tuple(row[0])] = [k]\n",
        "  return d\n",
        "\n",
        "def reversed_dict(d):\n",
        "  d_reversed = {}\n",
        "  d_final = {}\n",
        "  for i in d.keys(): #first for in loops are reversing the whole dictionary, replacing the keys with the values\n",
        "    if tuple(d[i]) in d_reversed:\n",
        "      for k in list(i):\n",
        "        d_reversed[tuple(d[i])].append(k)\n",
        "    else:\n",
        "      d_reversed[tuple(d[i])] = list(i)\n",
        "  \n",
        "  for i in d_reversed.keys(): #second for in loops are reversing it back, so we can nicely fold our dictionary to create bigger cliques,\n",
        "    if tuple(d_reversed[i]) in d_final: #that are easily visible\n",
        "      for k in list(i):\n",
        "        d_final[tuple(d_reversed[i])].append(k)\n",
        "    else:\n",
        "      d_final[tuple(d_reversed[i])] = list(i)\n",
        "\n",
        "  return d_final\n",
        "\n",
        "def new_nodes(clq):\n",
        "  E_n = []\n",
        "  N_c = []\n",
        "\n",
        "  for q in clq.keys():\n",
        "\n",
        "    if len(list(q))*len(clq[q]) > len(list(q)) + len(clq[q]): #optimisation constraint\n",
        "      n_c = str(clq[q]) #introducing a new node\n",
        "      for p in list(q):\n",
        "        E_n.append([p, n_c])\n",
        "      for s in clq[q]:\n",
        "        E_n.append([n_c, s])\n",
        "      N_c.append(n_c)\n",
        "\n",
        "    else:\n",
        "      for x in list(q):\n",
        "        for y in clq[q]:\n",
        "          E_n.append([x,y])\n",
        "  return N_c, E_n\n",
        "\n",
        "def new_nodes_l(clq):\n",
        "  E_n = []\n",
        "  N_c = []\n",
        "\n",
        "  for q in clq:\n",
        "\n",
        "    if len(q[0])*len(q[1]) > len(q[0]) + len(q[1]): #optimisation constraint\n",
        "      n_c = str(q[1]) #introducing a new node\n",
        "      for p in q[0]:\n",
        "        E_n.append([p, n_c])\n",
        "      for s in q[1]:\n",
        "        E_n.append([n_c, s])\n",
        "      N_c.append(n_c)\n",
        "\n",
        "    else:\n",
        "      for x in q[0]:\n",
        "        for y in q[1]:\n",
        "          E_n.append([[x],[y]])\n",
        "  return N_c, E_n"
      ],
      "execution_count": null,
      "outputs": []
    },
    {
      "cell_type": "code",
      "metadata": {
        "id": "Hcrcqr-hWDc3"
      },
      "source": [
        "def Partition(U, V, E, delta):\n",
        "\n",
        "  non_changable_V = copy.deepcopy(V)\n",
        "  i = 0\n",
        "  n = len(U)\n",
        "  m_hat = len(E)\n",
        "  clq_l = []\n",
        "  k_hat = calculating_k(n,m_hat,delta)\n",
        "\n",
        "  T, V_r, t_h = Neighborhood_trees(U, non_changable_V, E)\n",
        "  V_r_for_output = copy.deepcopy(V_r)\n",
        "\n",
        "  if k_hat < 2:\n",
        "\n",
        "    EN = cliques_formation(E)\n",
        "\n",
        "    N = []\n",
        "\n",
        "    return [U, V_r_for_output, N, EN]\n",
        "\n",
        "  while m_hat >= n**(2-delta) and k_hat > 1:\n",
        "\n",
        "    clq = Clique_stripping_algorithm(U, V_r, E, T, t_h, delta, k_hat)\n",
        "    \n",
        "    clq_l.append(clq)\n",
        "\n",
        "    E = Edge_removal(E, clq)\n",
        "    m_hat = len(E)\n",
        "\n",
        "    k_hat = calculating_k(n,m_hat,delta)\n",
        "    \n",
        "  clq_l = clq_l + E\n",
        "\n",
        "  clq_l = cliques_formation(clq_l)\n",
        "\n",
        "  N, EN = new_nodes_l(clq_l)\n",
        "\n",
        "  return [U, V_r_for_output, N, EN]"
      ],
      "execution_count": null,
      "outputs": []
    },
    {
      "cell_type": "code",
      "metadata": {
        "id": "bYMOoJJkctaU"
      },
      "source": [
        "list_U = [1, 2, 3, 4, 5, 6, 7, 8]\n",
        "list_V = [9, 10, 11, 12, 13, 14, 15, 16]\n",
        "list_E = [[1,9],\n",
        "          [2,10], [2,11], [2,12], [2,13], [2,14], [2,15], [2,16],\n",
        "          [3,10], [3,11], [3,12], [3,13], [3,14], [3,15], [3,16],\n",
        "          [4,10], [4,11], [4,12], [4,13], [4,14], [4,15], [4,16],\n",
        "          [5,10], [5,11], [5,12], [5,13], [5,14], [5,15], [5,16],\n",
        "          [6,10], [6,11], [6,12], [6,13], [6,14], [6,15], [6,16],\n",
        "          [7,10], [7,11], [7,12], [7,13], [7,14], [7,15], [7,16],\n",
        "          [8,10], [8,11], [8,12], [8,13], [8,14], [8,15], [8,16]]"
      ],
      "execution_count": null,
      "outputs": []
    },
    {
      "cell_type": "code",
      "metadata": {
        "id": "-a1YrJpfPE3W"
      },
      "source": [
        "d_2 = Partition(list_U, list_V, list_E, delta=1)"
      ],
      "execution_count": null,
      "outputs": []
    },
    {
      "cell_type": "code",
      "metadata": {
        "id": "Bcfl8_iXo875"
      },
      "source": [
        "def reading_pos(file_name):\n",
        "  edges = []\n",
        "  with open(file_name, \"r\") as f:\n",
        "    for line in f:\n",
        "      edges.append([int(line.strip().split()[0]), int(line.strip().split()[1])])\n",
        "  return edges\n",
        "\n",
        "def assigning_files(path_1, path_2, folder_names):\n",
        "  d = {}\n",
        "  for i in folder_names:\n",
        "    path = path_1 + str(i) + path_2\n",
        "    d[i] = reading_pos(path)\n",
        "  return d\n",
        "\n",
        "def length_original(d):\n",
        "  d_2 = {}\n",
        "  counter = 1\n",
        "  for i in d.keys():\n",
        "    d_2[counter] = [len(d[i][0]), len(d[i][1]), len(d[i][2])]\n",
        "    counter += 1\n",
        "  return d_2\n",
        "\n",
        "def prepare_for_Macconi(d, T):\n",
        "  d_n = {}\n",
        "  for i in d.keys():\n",
        "    unpack = list(chain.from_iterable(d[i]))\n",
        "    n = list(set(unpack))\n",
        "    n_h, n_l = high_or_low(n, d[i], T)\n",
        "    d_n[i] = [n_h, n_l, d[i]]\n",
        "  return d_n\n",
        "\n",
        "def prepare_for_Feder(d):\n",
        "  d_f = {}\n",
        "  for i in d.keys():\n",
        "    U = []\n",
        "    V = []\n",
        "    for p in d[i]:\n",
        "      U.append(p[0])\n",
        "      V.append(p[1])\n",
        "    U = list(set(U))\n",
        "    V = list(set(V))\n",
        "    d_f[i] = [U, V, d[i]]\n",
        "  return d_f\n",
        "\n",
        "def length_for_Macconi(d):\n",
        "  d_2 = {}\n",
        "  for i in d.keys():\n",
        "    d_2[i] = [len(d[i][0]), len(d[i][1]), len(d[i][2])]\n",
        "  return d_2\n",
        "\n",
        "def length_for_Feder(d):\n",
        "  d_2 = {}\n",
        "  for i in d.keys():\n",
        "    d_2[i] = [len(d[i][0]), len(d[i][1]), len(d[i][2])]\n",
        "  return d_2\n",
        "\n",
        "def lenght_for_Macconi_after(d):\n",
        "  d_2 = {}\n",
        "  for i in d.keys():\n",
        "    d_2[i] = [len(d[i][0]), len(d[i][1]), len(d[i][2]), len(d[i][3])]\n",
        "  \n",
        "  length_pd = pd.DataFrame.from_records(d_2, index=['num of low degree nodes', 'num of high degree nodes',\n",
        "                                                    'num of new introduced nodes', 'number of edges'])\n",
        "  return length_pd\n",
        "\n",
        "def k_per_data(d):\n",
        "  d_2 = {}\n",
        "  counter = 1\n",
        "  for i in d.keys():\n",
        "    d_2[counter] = calculating_k(d[i][0],d[i][2],1)\n",
        "    counter+=1\n",
        "  k_pd = pd.DataFrame.from_records(d_2, index=['k value'])\n",
        "\n",
        "  return k_pd\n",
        "\n",
        "def make_it_bipartite(d):\n",
        "  d_2 = {}\n",
        "  for i in d.keys():\n",
        "    new_E = []\n",
        "    U = []\n",
        "    V = []\n",
        "\n",
        "    for p in d[i]:\n",
        "      U.append(p[0])\n",
        "      V.append(p[1])\n",
        "    U = list(set(U))\n",
        "    V = list(set(V))\n",
        "\n",
        "    inter = intersection(U, V)\n",
        "\n",
        "    for p in d[i]:\n",
        "      if p[0] not in inter and p[1] not in inter:\n",
        "        new_E.append(p)\n",
        "\n",
        "    d_2[i] = new_E\n",
        "\n",
        "  return d_2\n",
        "\n",
        "def save_bipartite(d):\n",
        "  root = 'root'\n",
        "  destination = 'destination'\n",
        "  for i in d.keys():\n",
        "    path = '/content/drive/My Drive/pickles bipartite/data_org_{}.pkl'.format(i) #for the pickles, please contact me on kacper.sawicz1@gmail.com\n",
        "    exec('df_org_{} = pd.DataFrame(d[{}], columns=[root, destination])'.format(i, i))\n",
        "    exec('df_org_{}.to_pickle(path)'.format(i))\n",
        "  return 'saved'\n",
        "\n",
        "def maximum_value(l1, l2):\n",
        "  value = max(l1)\n",
        "  if value < max(l2):\n",
        "    value = max(l2)\n",
        "  return value\n",
        "\n",
        "def make_it_bipartite_samesize(d):\n",
        "  d_2 = {}\n",
        "  d_3 = {}\n",
        "  for i in d.keys():\n",
        "    new_E = []\n",
        "    U = []\n",
        "    V = []\n",
        "    U2 = []\n",
        "\n",
        "    for p in d[i]:\n",
        "      U.append(p[0])\n",
        "      V.append(p[1])\n",
        "    U = sorted(list(set(U)))\n",
        "    V = sorted(list(set(V)))\n",
        "\n",
        "    max_val = maximum_value(U, V)\n",
        "\n",
        "    inter = sorted(intersection(U, V))\n",
        "\n",
        "    counter = 1\n",
        "    for s in U:\n",
        "      if s in inter:\n",
        "        s = max_val + counter\n",
        "        U2.append(s)\n",
        "        counter += 1\n",
        "      else:\n",
        "        U2.append(s)\n",
        "\n",
        "    for k in d[i]:\n",
        "      if k[0] in U2:\n",
        "        new_E.append(k)\n",
        "      else:\n",
        "        counter = max_val + 1 + inter.index(k[0])\n",
        "        new_E.append([counter, k[1]])\n",
        "\n",
        "    d_2[i] = new_E\n",
        "    d_3[i] = [U2, V, new_E]\n",
        "\n",
        "  return d_2, d_3"
      ],
      "execution_count": null,
      "outputs": []
    },
    {
      "cell_type": "code",
      "metadata": {
        "id": "lKmfYr707Ubi"
      },
      "source": [
        "folders = [1,2,3,5,8,9,10,11,13,16,17,18,19,20,21,22,23,26,27]\n",
        "all_files = assigning_files('/content/drive/My Drive/Colab Notebooks/digraphs/', '/query.k2.pos', folders)"
      ],
      "execution_count": null,
      "outputs": []
    },
    {
      "cell_type": "code",
      "metadata": {
        "id": "o6jvqXVsmWla",
        "colab": {
          "base_uri": "https://localhost:8080/",
          "height": 35
        },
        "outputId": "de87c928-fbff-4fc1-9613-3b292ecb622a"
      },
      "source": [
        "are_they_bipartite = []\n",
        "for i in all_files.keys():\n",
        "  U = []\n",
        "  V = []\n",
        "  for p in all_files[i]:\n",
        "    U.append(p[0])\n",
        "    V.append(p[1])\n",
        "  U = list(set(U))\n",
        "  V = list(set(V))\n",
        "  are_they_bipartite.append(len(intersection(U, V)))\n",
        "are_they_bipartite\n",
        "#none of the graphs is bipartite, I have to make them bipartite"
      ],
      "execution_count": null,
      "outputs": [
        {
          "output_type": "execute_result",
          "data": {
            "text/plain": [
              "[2, 72, 4, 7, 11, 12, 1, 1, 2, 71, 6, 9, 1, 21, 1, 2, 32, 18, 1]"
            ]
          },
          "metadata": {
            "tags": []
          },
          "execution_count": 30
        }
      ]
    },
    {
      "cell_type": "code",
      "metadata": {
        "id": "qteNbZQJ1aoW"
      },
      "source": [
        "all_files_bi, all_files_bi_dic_tab = make_it_bipartite_samesize(all_files)"
      ],
      "execution_count": null,
      "outputs": []
    },
    {
      "cell_type": "code",
      "metadata": {
        "id": "N2hrbXZYtcGs"
      },
      "source": [
        "length_a_f_bi = length_original(all_files_bi_dic_tab)\n",
        "df_len_org_bi = pd.DataFrame.from_records(length_a_f_bi, index=['nodes in set U', 'nodes in set V', 'amount of edges'])"
      ],
      "execution_count": null,
      "outputs": []
    },
    {
      "cell_type": "code",
      "metadata": {
        "id": "FpfumJbntm5U",
        "colab": {
          "base_uri": "https://localhost:8080/",
          "height": 141
        },
        "outputId": "63758e5b-2dc5-4dea-bbc9-cb63a2fc4d66"
      },
      "source": [
        "df_len_org_bi"
      ],
      "execution_count": null,
      "outputs": [
        {
          "output_type": "execute_result",
          "data": {
            "text/html": [
              "<div>\n",
              "<style scoped>\n",
              "    .dataframe tbody tr th:only-of-type {\n",
              "        vertical-align: middle;\n",
              "    }\n",
              "\n",
              "    .dataframe tbody tr th {\n",
              "        vertical-align: top;\n",
              "    }\n",
              "\n",
              "    .dataframe thead th {\n",
              "        text-align: right;\n",
              "    }\n",
              "</style>\n",
              "<table border=\"1\" class=\"dataframe\">\n",
              "  <thead>\n",
              "    <tr style=\"text-align: right;\">\n",
              "      <th></th>\n",
              "      <th>1</th>\n",
              "      <th>2</th>\n",
              "      <th>3</th>\n",
              "      <th>4</th>\n",
              "      <th>5</th>\n",
              "      <th>6</th>\n",
              "      <th>7</th>\n",
              "      <th>8</th>\n",
              "      <th>9</th>\n",
              "      <th>10</th>\n",
              "      <th>11</th>\n",
              "      <th>12</th>\n",
              "      <th>13</th>\n",
              "      <th>14</th>\n",
              "      <th>15</th>\n",
              "      <th>16</th>\n",
              "      <th>17</th>\n",
              "      <th>18</th>\n",
              "      <th>19</th>\n",
              "    </tr>\n",
              "  </thead>\n",
              "  <tbody>\n",
              "    <tr>\n",
              "      <th>nodes in set U</th>\n",
              "      <td>89888</td>\n",
              "      <td>639</td>\n",
              "      <td>567</td>\n",
              "      <td>70</td>\n",
              "      <td>1282</td>\n",
              "      <td>1521</td>\n",
              "      <td>269</td>\n",
              "      <td>114</td>\n",
              "      <td>100</td>\n",
              "      <td>130</td>\n",
              "      <td>124</td>\n",
              "      <td>257</td>\n",
              "      <td>73</td>\n",
              "      <td>144</td>\n",
              "      <td>59</td>\n",
              "      <td>14514</td>\n",
              "      <td>1883</td>\n",
              "      <td>361</td>\n",
              "      <td>316</td>\n",
              "    </tr>\n",
              "    <tr>\n",
              "      <th>nodes in set V</th>\n",
              "      <td>16</td>\n",
              "      <td>123</td>\n",
              "      <td>83</td>\n",
              "      <td>132</td>\n",
              "      <td>157</td>\n",
              "      <td>374</td>\n",
              "      <td>152</td>\n",
              "      <td>119</td>\n",
              "      <td>329</td>\n",
              "      <td>189</td>\n",
              "      <td>93</td>\n",
              "      <td>184</td>\n",
              "      <td>61</td>\n",
              "      <td>1067</td>\n",
              "      <td>112</td>\n",
              "      <td>1481</td>\n",
              "      <td>909</td>\n",
              "      <td>80</td>\n",
              "      <td>3221</td>\n",
              "    </tr>\n",
              "    <tr>\n",
              "      <th>amount of edges</th>\n",
              "      <td>169796</td>\n",
              "      <td>17857</td>\n",
              "      <td>5331</td>\n",
              "      <td>573</td>\n",
              "      <td>1659</td>\n",
              "      <td>5251</td>\n",
              "      <td>596</td>\n",
              "      <td>330</td>\n",
              "      <td>578</td>\n",
              "      <td>5439</td>\n",
              "      <td>2211</td>\n",
              "      <td>313</td>\n",
              "      <td>164</td>\n",
              "      <td>13000</td>\n",
              "      <td>185</td>\n",
              "      <td>327128</td>\n",
              "      <td>100554</td>\n",
              "      <td>3050</td>\n",
              "      <td>421157</td>\n",
              "    </tr>\n",
              "  </tbody>\n",
              "</table>\n",
              "</div>"
            ],
            "text/plain": [
              "                     1      2     3    4   ...      16      17    18      19\n",
              "nodes in set U    89888    639   567   70  ...   14514    1883   361     316\n",
              "nodes in set V       16    123    83  132  ...    1481     909    80    3221\n",
              "amount of edges  169796  17857  5331  573  ...  327128  100554  3050  421157\n",
              "\n",
              "[3 rows x 19 columns]"
            ]
          },
          "metadata": {
            "tags": []
          },
          "execution_count": 33
        }
      ]
    },
    {
      "cell_type": "code",
      "metadata": {
        "id": "0lsPfs2_7t15"
      },
      "source": [
        "#save_bipartite(all_files_bi) run to save the bipartite graphs on your drive"
      ],
      "execution_count": null,
      "outputs": []
    },
    {
      "cell_type": "code",
      "metadata": {
        "id": "HoQ05FJ4GaWX"
      },
      "source": [
        "all_files_feder = prepare_for_Feder(copy.deepcopy(all_files_bi))"
      ],
      "execution_count": null,
      "outputs": []
    },
    {
      "cell_type": "code",
      "metadata": {
        "id": "vThyhbAW0CQP"
      },
      "source": [
        "length_a_F = length_for_Feder(all_files_feder)\n",
        "df_len_F = pd.DataFrame.from_records(length_a_F, index=['size of set U', 'size of set V', 'amount of edges'])"
      ],
      "execution_count": null,
      "outputs": []
    },
    {
      "cell_type": "code",
      "metadata": {
        "id": "S8xslj0908Tw",
        "colab": {
          "base_uri": "https://localhost:8080/",
          "height": 141
        },
        "outputId": "09b590c0-8aa2-44cb-aa93-f787a1f51ba3"
      },
      "source": [
        "df_len_F"
      ],
      "execution_count": null,
      "outputs": [
        {
          "output_type": "execute_result",
          "data": {
            "text/html": [
              "<div>\n",
              "<style scoped>\n",
              "    .dataframe tbody tr th:only-of-type {\n",
              "        vertical-align: middle;\n",
              "    }\n",
              "\n",
              "    .dataframe tbody tr th {\n",
              "        vertical-align: top;\n",
              "    }\n",
              "\n",
              "    .dataframe thead th {\n",
              "        text-align: right;\n",
              "    }\n",
              "</style>\n",
              "<table border=\"1\" class=\"dataframe\">\n",
              "  <thead>\n",
              "    <tr style=\"text-align: right;\">\n",
              "      <th></th>\n",
              "      <th>1</th>\n",
              "      <th>2</th>\n",
              "      <th>3</th>\n",
              "      <th>5</th>\n",
              "      <th>8</th>\n",
              "      <th>9</th>\n",
              "      <th>10</th>\n",
              "      <th>11</th>\n",
              "      <th>13</th>\n",
              "      <th>16</th>\n",
              "      <th>17</th>\n",
              "      <th>18</th>\n",
              "      <th>19</th>\n",
              "      <th>20</th>\n",
              "      <th>21</th>\n",
              "      <th>22</th>\n",
              "      <th>23</th>\n",
              "      <th>26</th>\n",
              "      <th>27</th>\n",
              "    </tr>\n",
              "  </thead>\n",
              "  <tbody>\n",
              "    <tr>\n",
              "      <th>size of set U</th>\n",
              "      <td>89888</td>\n",
              "      <td>639</td>\n",
              "      <td>567</td>\n",
              "      <td>70</td>\n",
              "      <td>1282</td>\n",
              "      <td>1521</td>\n",
              "      <td>269</td>\n",
              "      <td>114</td>\n",
              "      <td>100</td>\n",
              "      <td>130</td>\n",
              "      <td>124</td>\n",
              "      <td>257</td>\n",
              "      <td>73</td>\n",
              "      <td>144</td>\n",
              "      <td>59</td>\n",
              "      <td>14514</td>\n",
              "      <td>1883</td>\n",
              "      <td>361</td>\n",
              "      <td>316</td>\n",
              "    </tr>\n",
              "    <tr>\n",
              "      <th>size of set V</th>\n",
              "      <td>16</td>\n",
              "      <td>123</td>\n",
              "      <td>83</td>\n",
              "      <td>132</td>\n",
              "      <td>157</td>\n",
              "      <td>374</td>\n",
              "      <td>152</td>\n",
              "      <td>119</td>\n",
              "      <td>329</td>\n",
              "      <td>189</td>\n",
              "      <td>93</td>\n",
              "      <td>184</td>\n",
              "      <td>61</td>\n",
              "      <td>1067</td>\n",
              "      <td>112</td>\n",
              "      <td>1481</td>\n",
              "      <td>909</td>\n",
              "      <td>80</td>\n",
              "      <td>3221</td>\n",
              "    </tr>\n",
              "    <tr>\n",
              "      <th>amount of edges</th>\n",
              "      <td>169796</td>\n",
              "      <td>17857</td>\n",
              "      <td>5331</td>\n",
              "      <td>573</td>\n",
              "      <td>1659</td>\n",
              "      <td>5251</td>\n",
              "      <td>596</td>\n",
              "      <td>330</td>\n",
              "      <td>578</td>\n",
              "      <td>5439</td>\n",
              "      <td>2211</td>\n",
              "      <td>313</td>\n",
              "      <td>164</td>\n",
              "      <td>13000</td>\n",
              "      <td>185</td>\n",
              "      <td>327128</td>\n",
              "      <td>100554</td>\n",
              "      <td>3050</td>\n",
              "      <td>421157</td>\n",
              "    </tr>\n",
              "  </tbody>\n",
              "</table>\n",
              "</div>"
            ],
            "text/plain": [
              "                     1      2     3    5   ...      22      23    26      27\n",
              "size of set U     89888    639   567   70  ...   14514    1883   361     316\n",
              "size of set V        16    123    83  132  ...    1481     909    80    3221\n",
              "amount of edges  169796  17857  5331  573  ...  327128  100554  3050  421157\n",
              "\n",
              "[3 rows x 19 columns]"
            ]
          },
          "metadata": {
            "tags": []
          },
          "execution_count": 37
        }
      ]
    },
    {
      "cell_type": "code",
      "metadata": {
        "id": "gAnTMbMJ1_dY"
      },
      "source": [
        "#the algorithm will not run for k=0 and k=1, for k=2 it will run but not improve our results significantly"
      ],
      "execution_count": null,
      "outputs": []
    },
    {
      "cell_type": "code",
      "metadata": {
        "id": "J2j7LjbRu_ED",
        "colab": {
          "base_uri": "https://localhost:8080/",
          "height": 79
        },
        "outputId": "e291ae0b-1dae-4b16-b729-3affd032c8c9"
      },
      "source": [
        "k_per_data(length_a_F)"
      ],
      "execution_count": null,
      "outputs": [
        {
          "output_type": "execute_result",
          "data": {
            "text/html": [
              "<div>\n",
              "<style scoped>\n",
              "    .dataframe tbody tr th:only-of-type {\n",
              "        vertical-align: middle;\n",
              "    }\n",
              "\n",
              "    .dataframe tbody tr th {\n",
              "        vertical-align: top;\n",
              "    }\n",
              "\n",
              "    .dataframe thead th {\n",
              "        text-align: right;\n",
              "    }\n",
              "</style>\n",
              "<table border=\"1\" class=\"dataframe\">\n",
              "  <thead>\n",
              "    <tr style=\"text-align: right;\">\n",
              "      <th></th>\n",
              "      <th>1</th>\n",
              "      <th>2</th>\n",
              "      <th>3</th>\n",
              "      <th>4</th>\n",
              "      <th>5</th>\n",
              "      <th>6</th>\n",
              "      <th>7</th>\n",
              "      <th>8</th>\n",
              "      <th>9</th>\n",
              "      <th>10</th>\n",
              "      <th>11</th>\n",
              "      <th>12</th>\n",
              "      <th>13</th>\n",
              "      <th>14</th>\n",
              "      <th>15</th>\n",
              "      <th>16</th>\n",
              "      <th>17</th>\n",
              "      <th>18</th>\n",
              "      <th>19</th>\n",
              "    </tr>\n",
              "  </thead>\n",
              "  <tbody>\n",
              "    <tr>\n",
              "      <th>k value</th>\n",
              "      <td>0</td>\n",
              "      <td>1</td>\n",
              "      <td>1</td>\n",
              "      <td>1</td>\n",
              "      <td>0</td>\n",
              "      <td>1</td>\n",
              "      <td>1</td>\n",
              "      <td>1</td>\n",
              "      <td>1</td>\n",
              "      <td>2</td>\n",
              "      <td>1</td>\n",
              "      <td>0</td>\n",
              "      <td>1</td>\n",
              "      <td>4</td>\n",
              "      <td>1</td>\n",
              "      <td>1</td>\n",
              "      <td>1</td>\n",
              "      <td>1</td>\n",
              "      <td>-8</td>\n",
              "    </tr>\n",
              "  </tbody>\n",
              "</table>\n",
              "</div>"
            ],
            "text/plain": [
              "         1   2   3   4   5   6   7   8   9   ...  11  12  13  14  15  16  17  18  19\n",
              "k value   0   1   1   1   0   1   1   1   1  ...   1   0   1   4   1   1   1   1  -8\n",
              "\n",
              "[1 rows x 19 columns]"
            ]
          },
          "metadata": {
            "tags": []
          },
          "execution_count": 39
        }
      ]
    },
    {
      "cell_type": "code",
      "metadata": {
        "id": "3RDldJr-28FA"
      },
      "source": [
        "all_files_Macconi_sim = prepare_for_Feder(copy.deepcopy(all_files_bi))"
      ],
      "execution_count": null,
      "outputs": []
    },
    {
      "cell_type": "code",
      "metadata": {
        "id": "z4Bpq7eK3xBv"
      },
      "source": [
        "length_a_M_sim = length_for_Macconi(all_files_Macconi_sim)\n",
        "df_len_M_sim = pd.DataFrame.from_records(length_a_M_sim, index=['num of low degree nodes', 'num of high degree nodes', 'amount of edges'])"
      ],
      "execution_count": null,
      "outputs": []
    },
    {
      "cell_type": "code",
      "metadata": {
        "id": "awKCGDAW3_fo",
        "colab": {
          "base_uri": "https://localhost:8080/",
          "height": 141
        },
        "outputId": "e47b8e94-6204-4744-aefd-ae6fd9e4fcbc"
      },
      "source": [
        "df_len_M_sim"
      ],
      "execution_count": null,
      "outputs": [
        {
          "output_type": "execute_result",
          "data": {
            "text/html": [
              "<div>\n",
              "<style scoped>\n",
              "    .dataframe tbody tr th:only-of-type {\n",
              "        vertical-align: middle;\n",
              "    }\n",
              "\n",
              "    .dataframe tbody tr th {\n",
              "        vertical-align: top;\n",
              "    }\n",
              "\n",
              "    .dataframe thead th {\n",
              "        text-align: right;\n",
              "    }\n",
              "</style>\n",
              "<table border=\"1\" class=\"dataframe\">\n",
              "  <thead>\n",
              "    <tr style=\"text-align: right;\">\n",
              "      <th></th>\n",
              "      <th>1</th>\n",
              "      <th>2</th>\n",
              "      <th>3</th>\n",
              "      <th>5</th>\n",
              "      <th>8</th>\n",
              "      <th>9</th>\n",
              "      <th>10</th>\n",
              "      <th>11</th>\n",
              "      <th>13</th>\n",
              "      <th>16</th>\n",
              "      <th>17</th>\n",
              "      <th>18</th>\n",
              "      <th>19</th>\n",
              "      <th>20</th>\n",
              "      <th>21</th>\n",
              "      <th>22</th>\n",
              "      <th>23</th>\n",
              "      <th>26</th>\n",
              "      <th>27</th>\n",
              "    </tr>\n",
              "  </thead>\n",
              "  <tbody>\n",
              "    <tr>\n",
              "      <th>num of low degree nodes</th>\n",
              "      <td>89888</td>\n",
              "      <td>639</td>\n",
              "      <td>567</td>\n",
              "      <td>70</td>\n",
              "      <td>1282</td>\n",
              "      <td>1521</td>\n",
              "      <td>269</td>\n",
              "      <td>114</td>\n",
              "      <td>100</td>\n",
              "      <td>130</td>\n",
              "      <td>124</td>\n",
              "      <td>257</td>\n",
              "      <td>73</td>\n",
              "      <td>144</td>\n",
              "      <td>59</td>\n",
              "      <td>14514</td>\n",
              "      <td>1883</td>\n",
              "      <td>361</td>\n",
              "      <td>316</td>\n",
              "    </tr>\n",
              "    <tr>\n",
              "      <th>num of high degree nodes</th>\n",
              "      <td>16</td>\n",
              "      <td>123</td>\n",
              "      <td>83</td>\n",
              "      <td>132</td>\n",
              "      <td>157</td>\n",
              "      <td>374</td>\n",
              "      <td>152</td>\n",
              "      <td>119</td>\n",
              "      <td>329</td>\n",
              "      <td>189</td>\n",
              "      <td>93</td>\n",
              "      <td>184</td>\n",
              "      <td>61</td>\n",
              "      <td>1067</td>\n",
              "      <td>112</td>\n",
              "      <td>1481</td>\n",
              "      <td>909</td>\n",
              "      <td>80</td>\n",
              "      <td>3221</td>\n",
              "    </tr>\n",
              "    <tr>\n",
              "      <th>amount of edges</th>\n",
              "      <td>169796</td>\n",
              "      <td>17857</td>\n",
              "      <td>5331</td>\n",
              "      <td>573</td>\n",
              "      <td>1659</td>\n",
              "      <td>5251</td>\n",
              "      <td>596</td>\n",
              "      <td>330</td>\n",
              "      <td>578</td>\n",
              "      <td>5439</td>\n",
              "      <td>2211</td>\n",
              "      <td>313</td>\n",
              "      <td>164</td>\n",
              "      <td>13000</td>\n",
              "      <td>185</td>\n",
              "      <td>327128</td>\n",
              "      <td>100554</td>\n",
              "      <td>3050</td>\n",
              "      <td>421157</td>\n",
              "    </tr>\n",
              "  </tbody>\n",
              "</table>\n",
              "</div>"
            ],
            "text/plain": [
              "                              1      2     3   ...      23    26      27\n",
              "num of low degree nodes    89888    639   567  ...    1883   361     316\n",
              "num of high degree nodes      16    123    83  ...     909    80    3221\n",
              "amount of edges           169796  17857  5331  ...  100554  3050  421157\n",
              "\n",
              "[3 rows x 19 columns]"
            ]
          },
          "metadata": {
            "tags": []
          },
          "execution_count": 42
        }
      ]
    },
    {
      "cell_type": "code",
      "metadata": {
        "id": "EazfiAEJ4Eks"
      },
      "source": [
        "#now both of the algorithms will work with the same V nodes, so the results are somehow comparable"
      ],
      "execution_count": null,
      "outputs": []
    },
    {
      "cell_type": "code",
      "metadata": {
        "id": "F-gjk4EW4ZdB"
      },
      "source": [
        "def run_all_Macconi_org(d):\n",
        "  d_2 = {}\n",
        "  root = 'root'\n",
        "  destination = 'destination'\n",
        "  for i in d.keys():\n",
        "    path = '/content/drive/My Drive/pickles Macconi/data_Mac_{}.pkl'.format(i)\n",
        "    [NH, NL, NN, EN] = dedensification(d[i][1], d[i][0], d[i][2]) #one and zero are flipped becasue we have U and V sets to high and low degree\n",
        "    d_2[i] = [NH, NL, NN, EN]\n",
        "    #exec('df_Mac_{} = pd.DataFrame(d_2[{}][3], columns=[root, destination])'.format(i, i)) un-hash it if you want to save\n",
        "    #3 above is so we choose only edges to save in pickles\n",
        "    #exec('df_Mac_{}.to_pickle(path)'.format(i)) un-hash it if you want to save it on your drive\n",
        "\n",
        "  return d_2\n",
        "\n",
        "def run_all_Macconi_fast(d):\n",
        "  d_2 = {}\n",
        "  root = 'root'\n",
        "  destination = 'destination'\n",
        "  for i in d.keys():\n",
        "    path = '/content/drive/My Drive/pickles Macconi/data_Mac_{}.pkl'.format(i)\n",
        "    [NH, NL, NN, EN] = dedensification_fast(d[i][1], d[i][0], d[i][2]) #one and zero are flipped becasue we have U and V sets to high and low degree\n",
        "    d_2[i] = [NH, NL, NN, EN]\n",
        "    #exec('df_Mac_{} = pd.DataFrame(d_2[{}][3], columns=[root, destination])'.format(i, i)) un-hash it if you want to save\n",
        "    #3 above is so we choose only edges to save in pickles\n",
        "    #exec('df_Mac_{}.to_pickle(path)'.format(i)) un-hash it if you want to save\n",
        "\n",
        "  return d_2\n",
        "\n",
        "def run_all_Feder(d):\n",
        "  d_2 = {}\n",
        "  root = 'root'\n",
        "  destination = 'destination'\n",
        "  for i in d.keys():\n",
        "    path = '/content/drive/My Drive/pickles Feder/data_Fed_{}.pkl'.format(i)\n",
        "    graph = Partition(d[i][0], d[i][1], d[i][2], delta=1)\n",
        "    #I am using delta as 1 all the time, I do not see a reason not to held it fixed\n",
        "    d_2[i] = graph\n",
        "    exec('df_Fed_{} = pd.DataFrame(d_2[{}][3], columns=[root, destination])'.format(i, i))\n",
        "    #3 above is so we choose only edges to save in pickles\n",
        "    exec('df_Fed_{}.to_pickle(path)'.format(i))\n",
        "\n",
        "  return d_2\n",
        "\n",
        "def is_bipartite(d):\n",
        "  d_2 = {}\n",
        "  for i in d.keys():\n",
        "    cross = intersection(d[i][0], d[i][1])\n",
        "    if len(cross) == 0:\n",
        "      d_2[i] = 'is bipartite'\n",
        "    else:\n",
        "      d_2[i] = 'not bipartite'\n",
        "\n",
        "  return d_2\n",
        "\n",
        "def table_for_all_Macconi(d):\n",
        "  d_2 = {}\n",
        "  for i in d.keys():\n",
        "    d_2[i] = [len(d[i][1]), len(d[i][0]), len(d[i][2]), len(d[i][3])]\n",
        "\n",
        "  len_db_M = pd.DataFrame.from_records(d_2, index=['num of low degree nodes', 'num of high degree nodes', 'num of new nodes', 'amount of new edges'])\n",
        "\n",
        "  return len_db_M\n",
        "\n",
        "def table_difference_M(d_org, d_ded):\n",
        "  d_diff = {}\n",
        "  for i in d_org.keys():\n",
        "    d_diff[i] = [len(d_org[i][2]), len(d_ded[i][3]), len(d_org[i][2]) - len(d_ded[i][3]), len(d_ded[i][3]) / len(d_org[i][2])]\n",
        "\n",
        "  diff_M_db = pd.DataFrame.from_records(d_diff, index=['original number of edges', 'number of edges after dedensification', 'the difference of edges', 'ratio'])\n",
        "  \n",
        "  return diff_M_db\n",
        "\n",
        "def table_for_all_Feder(d):\n",
        "  d_2 = {}\n",
        "  for i in d.keys():\n",
        "    d_2[i] = [len(d[i][0]), len(d[i][1]), len(d[i][2]), len(d[i][3])]\n",
        "\n",
        "  len_db_F = pd.DataFrame.from_records(d_2, index=['U', 'V', 'num of new nodes', 'amount of new edges'])\n",
        "\n",
        "  return len_db_F\n",
        "\n",
        "def table_difference_F(d_org, d_ded):\n",
        "  d_diff = {}\n",
        "  for i in d_org.keys():\n",
        "    d_diff[i] = [len(d_org[i][2]), len(d_ded[i][3]), len(d_org[i][2]) - len(d_ded[i][3]), len(d_ded[i][3]) / len(d_org[i][2])]\n",
        "\n",
        "  diff_F_db = pd.DataFrame.from_records(d_diff, index=['original number of edges', 'number of edges after dedensification', 'the difference of edges', 'ratio'])\n",
        "  \n",
        "  return diff_F_db"
      ],
      "execution_count": null,
      "outputs": []
    },
    {
      "cell_type": "code",
      "metadata": {
        "id": "dkRmDvjZ8OUl"
      },
      "source": [
        "all_files_feder = prepare_for_Feder(copy.deepcopy(all_files_bi))"
      ],
      "execution_count": null,
      "outputs": []
    },
    {
      "cell_type": "markdown",
      "metadata": {
        "id": "49I_ovqrAicb"
      },
      "source": [
        "# My Dednsification Algorith for bipartite graphs Sawicz 2020\n"
      ]
    },
    {
      "cell_type": "code",
      "metadata": {
        "id": "V4LkS9XPAhUs"
      },
      "source": [
        "\"\"\"\n",
        "This is an algorith I created while trying to improve Feder algorithm, it works quite well on its own. The way of working is very simple, we create\n",
        "a dictionary of our edges, which makes the edges get grouped by node, and by reversing the dictionary we group it by destinations.\n",
        "\"\"\"\n",
        "def dictionary_folding(E):\n",
        "  E_hat = copy.deepcopy(E)\n",
        "\n",
        "  clq = cliques_formation(E_hat)\n",
        "\n",
        "  clq_d = convert_to_dict(clq)\n",
        "\n",
        "  counter1 = 1 #just so we execute the first loop\n",
        "  counter2 = 0\n",
        "\n",
        "  while counter2 < counter1:\n",
        "    \n",
        "    counter1 = len(clq_d.keys())\n",
        "\n",
        "    clq_d = reversed_dict(clq_d)\n",
        "    \n",
        "    counter2 = len(clq_d.keys())\n",
        "\n",
        "  N, EN = new_nodes(clq_d)\n",
        "\n",
        "  return(N, EN)\n",
        "\n",
        "def run_all_Kacper(d):\n",
        "  d_2 = {}\n",
        "  root = 'root'\n",
        "  destination = 'destination'\n",
        "  for i in d.keys():\n",
        "    path = '/content/drive/My Drive/pickles Kacper/data_Kac_{}.pkl'.format(i)\n",
        "    [NN, EN] = dictionary_folding(d[i])\n",
        "    d_2[i] = [NN, EN]\n",
        "    exec('df_Kac_{} = pd.DataFrame(d_2[{}][1], columns=[root, destination])'.format(i, i))\n",
        "    #1 above is so we choose only edges to save in pickles\n",
        "    exec('df_Kac_{}.to_pickle(path)'.format(i))\n",
        "\n",
        "  return d_2\n",
        "\n",
        "def performance_table_Kacper(d):\n",
        "  length_l = {}\n",
        "  for i in d.keys():\n",
        "    length_l[i] = [len(d[i][0]), len(d[i][1])]\n",
        "  len_db = pd.DataFrame.from_records(length_l, index=['num of new nodes', 'amount of new_edges'])\n",
        "  return len_db\n",
        "\n",
        "def table_difference_K(d_org, d_ded):\n",
        "  d_diff = {}\n",
        "  for i in d_org.keys():\n",
        "    d_diff[i] = [len(d_org[i]), len(d_ded[i][1]), len(d_org[i]) - len(d_ded[i][1]), len(d_ded[i][1]) / len(d_org[i]), len(d_ded[i][0])]\n",
        "\n",
        "  diff_M_db = pd.DataFrame.from_records(d_diff, index=['original number of edges', 'number of edges after dedensification',\n",
        "                                                       'the difference of edges', 'ratio', 'newly introduced nodes'])\n",
        "  \n",
        "  return diff_M_db"
      ],
      "execution_count": null,
      "outputs": []
    },
    {
      "cell_type": "code",
      "metadata": {
        "id": "tY6Qzxn9O_A2"
      },
      "source": [
        "def dedensification_fast(N_h, N_l, E):\n",
        "\n",
        "  N_c = []\n",
        "  E_improvement = []\n",
        "  E_to_add = []\n",
        "  E_f = []\n",
        "\n",
        "  for i in E:\n",
        "    if i[1] in N_h:\n",
        "      E_improvement.append(i)\n",
        "    else:\n",
        "      E_to_add.append(i)\n",
        "\n",
        "  N_c, E_clq = dictionary_folding(E_improvement)\n",
        "\n",
        "  E_f = E_clq + E_to_add\n",
        "\n",
        "\n",
        "  return [N_h, N_l, N_c, E_f]"
      ],
      "execution_count": null,
      "outputs": []
    },
    {
      "cell_type": "markdown",
      "metadata": {
        "id": "bU_SZ42_R5X7"
      },
      "source": [
        "# Comparison between the original algorithm and the algorithm with dictionaries"
      ]
    },
    {
      "cell_type": "markdown",
      "metadata": {
        "id": "CC0kczclU0S1"
      },
      "source": [
        "They are the same, which means we can freely use the fast version of the algorithm"
      ]
    },
    {
      "cell_type": "code",
      "metadata": {
        "id": "eRacSBu_U6Dt"
      },
      "source": [
        "def V_density(d):\n",
        "  d_2 = {}\n",
        "  \n",
        "  for i in d.keys():\n",
        "    d_map = {}\n",
        "    V_s = sorted(d[i][1]) #V\n",
        "    V_density = []\n",
        "\n",
        "    for s in V_s:\n",
        "      d_map[s] = 0\n",
        "\n",
        "    for p in d[i][2]: #edges\n",
        "      if p[1] in d_map.keys():\n",
        "        d_map[p[1]] += 1\n",
        "\n",
        "    for x in d_map.keys():\n",
        "      V_density.append(d_map[x])\n",
        "\n",
        "    d_2[i] = sorted(V_density)\n",
        "\n",
        "    d_map.clear()\n",
        "\n",
        "  return d_2"
      ],
      "execution_count": null,
      "outputs": []
    },
    {
      "cell_type": "code",
      "metadata": {
        "id": "FXvftt3yfI1q"
      },
      "source": [
        "V_dens = V_density(all_files_bi_dic_tab)"
      ],
      "execution_count": null,
      "outputs": []
    },
    {
      "cell_type": "code",
      "metadata": {
        "id": "OTGQNI1nX8Nc",
        "colab": {
          "base_uri": "https://localhost:8080/",
          "height": 700
        },
        "outputId": "71d826dd-a6b4-48f4-9354-0b27147be800"
      },
      "source": [
        "counter_1 = 0\n",
        "counter_2 = 0\n",
        "fig, axs = plt.subplots(5,4)\n",
        "fig.set_size_inches(15,12)\n",
        "\n",
        "for i in V_dens.keys():\n",
        "  \n",
        "  axs[counter_1, counter_2].bar(range(len(V_dens[i])), V_dens[i])# check before running\n",
        "\n",
        "  if counter_1 < 4:\n",
        "    counter_1 += 1\n",
        "  else:\n",
        "    counter_1 = 0\n",
        "    counter_2 += 1\n",
        "\n",
        "plt.savefig('/content/drive/My Drive/tables thesis/density overview.png')"
      ],
      "execution_count": null,
      "outputs": [
        {
          "output_type": "display_data",
          "data": {
            "image/png": "[encoded data removed]",
            "text/plain": [
              "<Figure size 1080x864 with 20 Axes>"
            ]
          },
          "metadata": {
            "tags": [],
            "needs_background": "light"
          }
        }
      ]
    },
    {
      "cell_type": "code",
      "metadata": {
        "id": "dcS43zHewWV4"
      },
      "source": [
        "def All_T(V):\n",
        "  all_T = list(set(V))\n",
        "  return all_T\n",
        "\n",
        "def find_best_T(U, V, E, V_density):\n",
        "  d_T = {}\n",
        "  values_of_T = All_T(V_density)\n",
        "  for i in values_of_T:\n",
        "    N_h, N_l = high_or_low(U+V, E, i)\n",
        "    [N_h, N_l, N_c, E_f] = dedensification_fast(N_h, N_l, E)\n",
        "    d_T[i] = [N_h, N_l, N_c, E_f]\n",
        "  return d_T"
      ],
      "execution_count": null,
      "outputs": []
    },
    {
      "cell_type": "code",
      "metadata": {
        "id": "474BD513CVs7"
      },
      "source": [
        "queries = {\n",
        "1:'(^<isLocatedIn>#^<owns>#^<created>)+',\n",
        "2:'(^<hasCapital>#^<isLocatedIn>#^<dealsWith>)+',\n",
        "3:'(^<owns>#^<isLocatedIn>#^<dealsWith>)+',\n",
        "4:'(^<participatedIn>#^<isLocatedIn>#^<dealsWith>)+',\n",
        "5:'(^<hasCapital>#^<participatedIn>#^<happenedIn>)+',\n",
        "6:'(^<isInterestedIn>#^<influences>#^<hasAcademicAdvisor>)+',\n",
        "7:'(^<isLocatedIn>#^<dealsWith>#^<hasCapital>)+',\n",
        "8:'(^<owns>#^<isLocatedIn>#^<hasCapital>)+',\n",
        "9:'(^<participatedIn>#^<happenedIn>#^<hasCapital>)+',\n",
        "10:'(^<influences>#^<isMarriedTo>#^<hasChild>)+',\n",
        "11:'(^<isMarriedTo>#^<influences>#^<hasChild>)+',\n",
        "12:'(^<hasAcademicAdvisor>#^<isInterestedIn>#^<influences>)+',\n",
        "13:'(^<isMarriedTo>#^<hasChild>#^<influences>)+',\n",
        "14:'(^<isLocatedIn>#^<owns>#^<isConnectedTo>)+',\n",
        "15:'(^<influences>#^<hasAcademicAdvisor>#^<isInterestedIn>)+',\n",
        "16:'(^<dealsWith>#^<hasCapital>#^<isLocatedIn>)+',\n",
        "17:'(^<dealsWith>#^<owns>#^<isLocatedIn>)+',\n",
        "18:'(^<hasCapital>#^<owns>#^<isLocatedIn>)+',\n",
        "19:'(^<owns>#^<created>#^<isLocatedIn>)+',\n",
        "20:'(^<owns>#^<isConnectedTo>#^<isLocatedIn>)+',\n",
        "21:'(^<hasChild>#^<influences>#^<isMarriedTo>)+',\n",
        "22:'(^<created>#^<isLocatedIn>#^<owns>)+',\n",
        "23:'(^<isConnectedTo>#^<isLocatedIn>#^<owns>)+',\n",
        "24:'(^<isLocatedIn>#^<dealsWith>#^<owns>)+',\n",
        "25:'(^<isLocatedIn>#^<hasCapital>#^<owns>)+',\n",
        "26:'(^<happenedIn>#^<hasCapital>#^<participatedIn>)+',\n",
        "27:'(^<isLeaderOf>#^<dealsWith>#^<participatedIn>)+',\n",
        "}"
      ],
      "execution_count": null,
      "outputs": []
    },
    {
      "cell_type": "code",
      "metadata": {
        "id": "EHUaqTvCDZDf"
      },
      "source": [
        "queries_rep = {}\n",
        "for i in queries.keys():\n",
        "  queries_rep[i] = queries[i].replace('^', ':')\n",
        "  queries_rep[i] = queries_rep[i].replace('#', '/')"
      ],
      "execution_count": null,
      "outputs": []
    },
    {
      "cell_type": "code",
      "metadata": {
        "id": "T5v4hTJ2IFwa",
        "colab": {
          "base_uri": "https://localhost:8080/",
          "height": 72
        },
        "outputId": "34ebde5f-ab44-44e3-a690-3ad6f272b950"
      },
      "source": [
        "pd.set_option('display.max_colwidth', -1)"
      ],
      "execution_count": null,
      "outputs": [
        {
          "output_type": "stream",
          "text": [
            "/usr/local/lib/python3.6/dist-packages/ipykernel_launcher.py:1: FutureWarning: Passing a negative integer is deprecated in version 1.0 and will not be supported in future version. Instead, use None to not limit the column width.\n",
            "  \"\"\"Entry point for launching an IPython kernel.\n"
          ],
          "name": "stderr"
        }
      ]
    },
    {
      "cell_type": "code",
      "metadata": {
        "id": "w4wh75I7EuJz",
        "colab": {
          "base_uri": "https://localhost:8080/",
          "height": 877
        },
        "outputId": "3c921aa1-b2eb-43ea-ac32-57ebb4ca31f2"
      },
      "source": [
        "lst_tab = pd.DataFrame(queries_rep, index=['query'])\n",
        "last_table = pd.DataFrame.transpose(lst_tab)\n",
        "last_table"
      ],
      "execution_count": null,
      "outputs": [
        {
          "output_type": "execute_result",
          "data": {
            "text/html": [
              "<div>\n",
              "<style scoped>\n",
              "    .dataframe tbody tr th:only-of-type {\n",
              "        vertical-align: middle;\n",
              "    }\n",
              "\n",
              "    .dataframe tbody tr th {\n",
              "        vertical-align: top;\n",
              "    }\n",
              "\n",
              "    .dataframe thead th {\n",
              "        text-align: right;\n",
              "    }\n",
              "</style>\n",
              "<table border=\"1\" class=\"dataframe\">\n",
              "  <thead>\n",
              "    <tr style=\"text-align: right;\">\n",
              "      <th></th>\n",
              "      <th>query</th>\n",
              "    </tr>\n",
              "  </thead>\n",
              "  <tbody>\n",
              "    <tr>\n",
              "      <th>1</th>\n",
              "      <td>(:&lt;isLocatedIn&gt;/:&lt;owns&gt;/:&lt;created&gt;)+</td>\n",
              "    </tr>\n",
              "    <tr>\n",
              "      <th>2</th>\n",
              "      <td>(:&lt;hasCapital&gt;/:&lt;isLocatedIn&gt;/:&lt;dealsWith&gt;)+</td>\n",
              "    </tr>\n",
              "    <tr>\n",
              "      <th>3</th>\n",
              "      <td>(:&lt;owns&gt;/:&lt;isLocatedIn&gt;/:&lt;dealsWith&gt;)+</td>\n",
              "    </tr>\n",
              "    <tr>\n",
              "      <th>4</th>\n",
              "      <td>(:&lt;participatedIn&gt;/:&lt;isLocatedIn&gt;/:&lt;dealsWith&gt;)+</td>\n",
              "    </tr>\n",
              "    <tr>\n",
              "      <th>5</th>\n",
              "      <td>(:&lt;hasCapital&gt;/:&lt;participatedIn&gt;/:&lt;happenedIn&gt;)+</td>\n",
              "    </tr>\n",
              "    <tr>\n",
              "      <th>6</th>\n",
              "      <td>(:&lt;isInterestedIn&gt;/:&lt;influences&gt;/:&lt;hasAcademicAdvisor&gt;)+</td>\n",
              "    </tr>\n",
              "    <tr>\n",
              "      <th>7</th>\n",
              "      <td>(:&lt;isLocatedIn&gt;/:&lt;dealsWith&gt;/:&lt;hasCapital&gt;)+</td>\n",
              "    </tr>\n",
              "    <tr>\n",
              "      <th>8</th>\n",
              "      <td>(:&lt;owns&gt;/:&lt;isLocatedIn&gt;/:&lt;hasCapital&gt;)+</td>\n",
              "    </tr>\n",
              "    <tr>\n",
              "      <th>9</th>\n",
              "      <td>(:&lt;participatedIn&gt;/:&lt;happenedIn&gt;/:&lt;hasCapital&gt;)+</td>\n",
              "    </tr>\n",
              "    <tr>\n",
              "      <th>10</th>\n",
              "      <td>(:&lt;influences&gt;/:&lt;isMarriedTo&gt;/:&lt;hasChild&gt;)+</td>\n",
              "    </tr>\n",
              "    <tr>\n",
              "      <th>11</th>\n",
              "      <td>(:&lt;isMarriedTo&gt;/:&lt;influences&gt;/:&lt;hasChild&gt;)+</td>\n",
              "    </tr>\n",
              "    <tr>\n",
              "      <th>12</th>\n",
              "      <td>(:&lt;hasAcademicAdvisor&gt;/:&lt;isInterestedIn&gt;/:&lt;influences&gt;)+</td>\n",
              "    </tr>\n",
              "    <tr>\n",
              "      <th>13</th>\n",
              "      <td>(:&lt;isMarriedTo&gt;/:&lt;hasChild&gt;/:&lt;influences&gt;)+</td>\n",
              "    </tr>\n",
              "    <tr>\n",
              "      <th>14</th>\n",
              "      <td>(:&lt;isLocatedIn&gt;/:&lt;owns&gt;/:&lt;isConnectedTo&gt;)+</td>\n",
              "    </tr>\n",
              "    <tr>\n",
              "      <th>15</th>\n",
              "      <td>(:&lt;influences&gt;/:&lt;hasAcademicAdvisor&gt;/:&lt;isInterestedIn&gt;)+</td>\n",
              "    </tr>\n",
              "    <tr>\n",
              "      <th>16</th>\n",
              "      <td>(:&lt;dealsWith&gt;/:&lt;hasCapital&gt;/:&lt;isLocatedIn&gt;)+</td>\n",
              "    </tr>\n",
              "    <tr>\n",
              "      <th>17</th>\n",
              "      <td>(:&lt;dealsWith&gt;/:&lt;owns&gt;/:&lt;isLocatedIn&gt;)+</td>\n",
              "    </tr>\n",
              "    <tr>\n",
              "      <th>18</th>\n",
              "      <td>(:&lt;hasCapital&gt;/:&lt;owns&gt;/:&lt;isLocatedIn&gt;)+</td>\n",
              "    </tr>\n",
              "    <tr>\n",
              "      <th>19</th>\n",
              "      <td>(:&lt;owns&gt;/:&lt;created&gt;/:&lt;isLocatedIn&gt;)+</td>\n",
              "    </tr>\n",
              "    <tr>\n",
              "      <th>20</th>\n",
              "      <td>(:&lt;owns&gt;/:&lt;isConnectedTo&gt;/:&lt;isLocatedIn&gt;)+</td>\n",
              "    </tr>\n",
              "    <tr>\n",
              "      <th>21</th>\n",
              "      <td>(:&lt;hasChild&gt;/:&lt;influences&gt;/:&lt;isMarriedTo&gt;)+</td>\n",
              "    </tr>\n",
              "    <tr>\n",
              "      <th>22</th>\n",
              "      <td>(:&lt;created&gt;/:&lt;isLocatedIn&gt;/:&lt;owns&gt;)+</td>\n",
              "    </tr>\n",
              "    <tr>\n",
              "      <th>23</th>\n",
              "      <td>(:&lt;isConnectedTo&gt;/:&lt;isLocatedIn&gt;/:&lt;owns&gt;)+</td>\n",
              "    </tr>\n",
              "    <tr>\n",
              "      <th>24</th>\n",
              "      <td>(:&lt;isLocatedIn&gt;/:&lt;dealsWith&gt;/:&lt;owns&gt;)+</td>\n",
              "    </tr>\n",
              "    <tr>\n",
              "      <th>25</th>\n",
              "      <td>(:&lt;isLocatedIn&gt;/:&lt;hasCapital&gt;/:&lt;owns&gt;)+</td>\n",
              "    </tr>\n",
              "    <tr>\n",
              "      <th>26</th>\n",
              "      <td>(:&lt;happenedIn&gt;/:&lt;hasCapital&gt;/:&lt;participatedIn&gt;)+</td>\n",
              "    </tr>\n",
              "    <tr>\n",
              "      <th>27</th>\n",
              "      <td>(:&lt;isLeaderOf&gt;/:&lt;dealsWith&gt;/:&lt;participatedIn&gt;)+</td>\n",
              "    </tr>\n",
              "  </tbody>\n",
              "</table>\n",
              "</div>"
            ],
            "text/plain": [
              "                                                       query\n",
              "1   (:<isLocatedIn>/:<owns>/:<created>)+                    \n",
              "2   (:<hasCapital>/:<isLocatedIn>/:<dealsWith>)+            \n",
              "3   (:<owns>/:<isLocatedIn>/:<dealsWith>)+                  \n",
              "4   (:<participatedIn>/:<isLocatedIn>/:<dealsWith>)+        \n",
              "5   (:<hasCapital>/:<participatedIn>/:<happenedIn>)+        \n",
              "6   (:<isInterestedIn>/:<influences>/:<hasAcademicAdvisor>)+\n",
              "7   (:<isLocatedIn>/:<dealsWith>/:<hasCapital>)+            \n",
              "8   (:<owns>/:<isLocatedIn>/:<hasCapital>)+                 \n",
              "9   (:<participatedIn>/:<happenedIn>/:<hasCapital>)+        \n",
              "10  (:<influences>/:<isMarriedTo>/:<hasChild>)+             \n",
              "11  (:<isMarriedTo>/:<influences>/:<hasChild>)+             \n",
              "12  (:<hasAcademicAdvisor>/:<isInterestedIn>/:<influences>)+\n",
              "13  (:<isMarriedTo>/:<hasChild>/:<influences>)+             \n",
              "14  (:<isLocatedIn>/:<owns>/:<isConnectedTo>)+              \n",
              "15  (:<influences>/:<hasAcademicAdvisor>/:<isInterestedIn>)+\n",
              "16  (:<dealsWith>/:<hasCapital>/:<isLocatedIn>)+            \n",
              "17  (:<dealsWith>/:<owns>/:<isLocatedIn>)+                  \n",
              "18  (:<hasCapital>/:<owns>/:<isLocatedIn>)+                 \n",
              "19  (:<owns>/:<created>/:<isLocatedIn>)+                    \n",
              "20  (:<owns>/:<isConnectedTo>/:<isLocatedIn>)+              \n",
              "21  (:<hasChild>/:<influences>/:<isMarriedTo>)+             \n",
              "22  (:<created>/:<isLocatedIn>/:<owns>)+                    \n",
              "23  (:<isConnectedTo>/:<isLocatedIn>/:<owns>)+              \n",
              "24  (:<isLocatedIn>/:<dealsWith>/:<owns>)+                  \n",
              "25  (:<isLocatedIn>/:<hasCapital>/:<owns>)+                 \n",
              "26  (:<happenedIn>/:<hasCapital>/:<participatedIn>)+        \n",
              "27  (:<isLeaderOf>/:<dealsWith>/:<participatedIn>)+         "
            ]
          },
          "metadata": {
            "tags": []
          },
          "execution_count": 17
        }
      ]
    }
  ]
}